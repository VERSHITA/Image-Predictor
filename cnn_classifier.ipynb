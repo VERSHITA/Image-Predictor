{
 "cells": [
  {
   "cell_type": "code",
   "execution_count": 1,
   "metadata": {},
   "outputs": [
    {
     "name": "stdout",
     "output_type": "stream",
     "text": [
      "WARNING:tensorflow:From c:\\Users\\vershi\\AppData\\Local\\Programs\\Python\\Python311\\Lib\\site-packages\\keras\\src\\losses.py:2976: The name tf.losses.sparse_softmax_cross_entropy is deprecated. Please use tf.compat.v1.losses.sparse_softmax_cross_entropy instead.\n",
      "\n"
     ]
    },
    {
     "name": "stderr",
     "output_type": "stream",
     "text": [
      "C:\\Users\\vershi\\AppData\\Local\\Temp\\ipykernel_13308\\2030806609.py:5: DeprecationWarning: 'imghdr' is deprecated and slated for removal in Python 3.13\n",
      "  import imghdr\n"
     ]
    },
    {
     "data": {
      "text/plain": [
       "'Importing all the modules here'"
      ]
     },
     "execution_count": 1,
     "metadata": {},
     "output_type": "execute_result"
    }
   ],
   "source": [
    "import tensorflow as tf\n",
    "import os\n",
    "import matplotlib.pyplot as plt\n",
    "import cv2\n",
    "import imghdr\n",
    "import numpy as np\n",
    "from sklearn.model_selection import  train_test_split\n",
    "\n",
    "from keras.models import Sequential\n",
    "from keras.layers import Dense , Conv2D, Flatten, MaxPooling2D\n",
    "from keras.utils import to_categorical\n",
    "import tensorflow as tf\n",
    "\n",
    "#----------------------------------#\n",
    "'''Importing all the modules here'''"
   ]
  },
  {
   "cell_type": "code",
   "execution_count": 2,
   "metadata": {},
   "outputs": [
    {
     "data": {
      "text/plain": [
       "'removing all the garbage images from the folders training and testing'"
      ]
     },
     "execution_count": 2,
     "metadata": {},
     "output_type": "execute_result"
    }
   ],
   "source": [
    "\n",
    "def debug(x):\n",
    "    data_dir=x\n",
    "    image_exts= ['jpeg', 'jpg', 'bmp','png']\n",
    "    #-----------------------------------------------------#\n",
    "    for image_class in os.listdir(data_dir):\n",
    "        for images in os.listdir(os.path.join(data_dir, image_class)):\n",
    "            image_path=os.path.join(data_dir, image_class,images)\n",
    "            try:\n",
    "                img=cv2.imread(image_path)\n",
    "                tip=imghdr.what(image_path)\n",
    "                if tip not in image_exts:\n",
    "                    print('Image not in ext list {}'.format(image_path))\n",
    "                    os.remove(image_path)\n",
    "            except Expection as e:\n",
    "                print('Issue with image {}'.format(image_path))\n",
    "\n",
    "\n",
    "debug('C:/Users/vershi/OneDrive/Desktop/image_classify/cifar-3class-data/train')\n",
    "debug('C:/Users/vershi/OneDrive/Desktop/image_classify/cifar-3class-data/test')\n",
    "#-------------------------------------------------------------------------#\n",
    "'''removing all the garbage images from the folders training and testing'''\n"
   ]
  },
  {
   "cell_type": "code",
   "execution_count": 3,
   "metadata": {},
   "outputs": [
    {
     "data": {
      "text/plain": [
       "'getting testing and training image arrays in x_train, y_train with their labels[0,1,2,3] in y_train,y_test.\\n Also having a function to find the number of classes'"
      ]
     },
     "execution_count": 3,
     "metadata": {},
     "output_type": "execute_result"
    }
   ],
   "source": [
    "def number_classes(path):\n",
    "    data=os.listdir(path) \n",
    "    num_classes=len(data)\n",
    "    return num_classes\n",
    "\n",
    "\n",
    "\n",
    "def data_load(path_train,path_test):\n",
    "    train_data=os.listdir(path_train) \n",
    "    num_classes=len(train_data)#list of folders in the training folder (cat,dog...)\n",
    "    x_train=[]       #images\n",
    "    x_test=[]        # image for test\n",
    "    y_train=[]       # labels\n",
    "    y_test=[]        #labels for test\n",
    "\n",
    "    for label,folder in enumerate(train_data):\n",
    "        path1=path_train+'/'+ str(folder)\n",
    "        images=os.listdir(path1)\n",
    "        for i in images:\n",
    "            path_images=path1+'/'+str(i)\n",
    "            img=cv2.resize(cv2.imread(path_images),(20,20))\n",
    "            x_train.append(img)\n",
    "            y_train.append(label)\n",
    "\n",
    "\n",
    "\n",
    "        path2=path_test+'/'+str(folder)\n",
    "        images=os.listdir(path2)\n",
    "        for j in images:\n",
    "            path_images1=path2+'/'+str(j)\n",
    "            img=cv2.resize(cv2.imread(path_images1),(20,20))\n",
    "            x_test.append(img)\n",
    "            y_test.append(label)\n",
    "\n",
    "    x_train=np.array(x_train)\n",
    "    y_train=np.asarray(y_train)\n",
    "    x_test=np.asarray(x_test)\n",
    "    y_test=np.asarray(y_test)\n",
    "\n",
    "    return x_train,y_train,x_test,y_test\n",
    "\n",
    "\n",
    "path_train = 'C:/Users/vershi/OneDrive/Desktop/image_classify/cifar-3class-data/train'\n",
    "path_test = 'C:/Users/vershi/OneDrive/Desktop/image_classify/cifar-3class-data/test'\n",
    "x_train,y_train,x_test,y_test = data_load(path_train, path_test)\n",
    "num_classes=number_classes(path_train)\n",
    "\n",
    "#--------------------------------------------#\n",
    "'''getting testing and training image arrays in x_train, y_train with their labels[0,1,2,3] in y_train,y_test.\n",
    " Also having a function to find the number of classes'''"
   ]
  },
  {
   "cell_type": "code",
   "execution_count": 4,
   "metadata": {},
   "outputs": [
    {
     "name": "stdout",
     "output_type": "stream",
     "text": [
      "[0 0 0 0 0 0 0 0 0 0 0 0 0 0 0 0 0 0 0 0 0 0 0 0 0 0 0 0 0 0 0 0 0 0 0 0 0\n",
      " 0 0 0 0 0 0 0 0 0 0 0 0 0 0 0 0 0 0 0 0 0 0 0 0 0 0 0 0 0 0 0 0 0 0 0 0 0\n",
      " 0 0 0 0 0 0 0 0 0 0 0 0 0 0 0 0 0 0 0 0 0 0 0 0 0 0 1 1 1 1 1 1 1 1 1 1 1\n",
      " 1 1 1 1 1 1 1 1 1 1 1 1 1 1 1 1 1 1 1 1 1 1 1 1 1 1 1 1 1 1 1 1 1 1 1 1 1\n",
      " 1 1 1 1 1 1 1 1 1 1 1 1 1 1 1 1 1 1 1 1 1 1 1 1 1 1 1 1 1 1 1 1 1 1 1 1 1\n",
      " 1 1 1 1 1 1 1 1 1 1 1 1 1 1 1 2 2 2 2 2 2 2 2 2 2 2 2 2 2 2 2 2 2 2 2 2 2\n",
      " 2 2 2 2 2 2 2 2 2 2 2 2 2 2 2 2 2 2 2 2 2 2 2 2 2 2 2 2 2 2 2 2 2 2 2 2 2\n",
      " 2 2 2 2 2 2 2 2 2 2 2 2 2 2 2 2 2 2 2 2 2 2 2 2 2 2 2 2 2 2 2 2 2 2 2 2 2\n",
      " 2 2 2 2]\n",
      "[0 0 0 ... 2 2 2]\n"
     ]
    }
   ],
   "source": [
    "print(y_test)\n",
    "print(y_train)"
   ]
  },
  {
   "cell_type": "code",
   "execution_count": 5,
   "metadata": {},
   "outputs": [
    {
     "name": "stdout",
     "output_type": "stream",
     "text": [
      "(1350, 20, 20, 3)\n",
      "(150, 20, 20, 3)\n",
      "[2 2 1 ... 1 2 2]\n"
     ]
    },
    {
     "data": {
      "text/plain": [
       "'randomising the data and finding the validation values as the above values are very syncronized'"
      ]
     },
     "execution_count": 5,
     "metadata": {},
     "output_type": "execute_result"
    }
   ],
   "source": [
    "x_train,x_val,y_train,y_val=train_test_split(x_train,y_train,test_size=0.1,random_state=42)\n",
    "print(x_train.shape)\n",
    "print(x_val.shape)\n",
    "print(y_train)\n",
    "#------------------------------------------#\n",
    "'''randomising the data and finding the validation values as the above values are very syncronized'''"
   ]
  },
  {
   "cell_type": "code",
   "execution_count": 6,
   "metadata": {},
   "outputs": [
    {
     "data": {
      "text/plain": [
       "'normalizing'"
      ]
     },
     "execution_count": 6,
     "metadata": {},
     "output_type": "execute_result"
    }
   ],
   "source": [
    "x_train=x_train.astype('float32')\n",
    "x_val=x_val.astype('float32')\n",
    "x_test=x_test.astype('float32')\n",
    "\n",
    "x_train=x_train/255\n",
    "x_val=x_val/255\n",
    "x_test=x_test/255\n",
    "\n",
    "\n",
    "y_test=to_categorical(y_test)\n",
    "y_train=to_categorical(y_train)\n",
    "y_val=to_categorical(y_val)\n",
    "#---------------------------------------------#\n",
    "'''normalizing'''"
   ]
  },
  {
   "cell_type": "code",
   "execution_count": 7,
   "metadata": {},
   "outputs": [
    {
     "name": "stdout",
     "output_type": "stream",
     "text": [
      "WARNING:tensorflow:From c:\\Users\\vershi\\AppData\\Local\\Programs\\Python\\Python311\\Lib\\site-packages\\keras\\src\\backend.py:873: The name tf.get_default_graph is deprecated. Please use tf.compat.v1.get_default_graph instead.\n",
      "\n",
      "WARNING:tensorflow:From c:\\Users\\vershi\\AppData\\Local\\Programs\\Python\\Python311\\Lib\\site-packages\\keras\\src\\layers\\pooling\\max_pooling2d.py:161: The name tf.nn.max_pool is deprecated. Please use tf.nn.max_pool2d instead.\n",
      "\n",
      "WARNING:tensorflow:From c:\\Users\\vershi\\AppData\\Local\\Programs\\Python\\Python311\\Lib\\site-packages\\keras\\src\\optimizers\\__init__.py:309: The name tf.train.Optimizer is deprecated. Please use tf.compat.v1.train.Optimizer instead.\n",
      "\n",
      "Epoch 1/50\n",
      "WARNING:tensorflow:From c:\\Users\\vershi\\AppData\\Local\\Programs\\Python\\Python311\\Lib\\site-packages\\keras\\src\\utils\\tf_utils.py:492: The name tf.ragged.RaggedTensorValue is deprecated. Please use tf.compat.v1.ragged.RaggedTensorValue instead.\n",
      "\n",
      "WARNING:tensorflow:From c:\\Users\\vershi\\AppData\\Local\\Programs\\Python\\Python311\\Lib\\site-packages\\keras\\src\\engine\\base_layer_utils.py:384: The name tf.executing_eagerly_outside_functions is deprecated. Please use tf.compat.v1.executing_eagerly_outside_functions instead.\n",
      "\n",
      "7/7 [==============================] - 7s 604ms/step - loss: 1.1023 - accuracy: 0.3830 - val_loss: 1.0904 - val_accuracy: 0.2800\n",
      "Epoch 2/50\n",
      "7/7 [==============================] - 4s 511ms/step - loss: 1.0197 - accuracy: 0.4919 - val_loss: 1.2100 - val_accuracy: 0.3533\n",
      "Epoch 3/50\n",
      "7/7 [==============================] - 4s 491ms/step - loss: 0.9646 - accuracy: 0.5274 - val_loss: 0.9759 - val_accuracy: 0.5200\n",
      "Epoch 4/50\n",
      "7/7 [==============================] - 4s 532ms/step - loss: 0.7914 - accuracy: 0.6985 - val_loss: 0.7863 - val_accuracy: 0.6867\n",
      "Epoch 5/50\n",
      "7/7 [==============================] - 3s 477ms/step - loss: 0.7074 - accuracy: 0.7215 - val_loss: 0.6918 - val_accuracy: 0.7267\n",
      "Epoch 6/50\n",
      "7/7 [==============================] - 3s 463ms/step - loss: 0.6598 - accuracy: 0.7326 - val_loss: 0.6529 - val_accuracy: 0.7467\n",
      "Epoch 7/50\n",
      "7/7 [==============================] - 4s 534ms/step - loss: 0.5784 - accuracy: 0.7667 - val_loss: 0.6051 - val_accuracy: 0.7533\n",
      "Epoch 8/50\n",
      "7/7 [==============================] - 3s 457ms/step - loss: 0.5670 - accuracy: 0.7630 - val_loss: 0.5937 - val_accuracy: 0.7733\n",
      "Epoch 9/50\n",
      "7/7 [==============================] - 3s 461ms/step - loss: 0.5767 - accuracy: 0.7711 - val_loss: 0.5692 - val_accuracy: 0.7867\n",
      "Epoch 10/50\n",
      "7/7 [==============================] - 3s 454ms/step - loss: 0.5011 - accuracy: 0.8000 - val_loss: 0.5836 - val_accuracy: 0.7400\n",
      "Epoch 11/50\n",
      "7/7 [==============================] - 3s 449ms/step - loss: 0.4896 - accuracy: 0.7926 - val_loss: 0.6761 - val_accuracy: 0.7133\n",
      "Epoch 12/50\n",
      "7/7 [==============================] - 3s 444ms/step - loss: 0.4502 - accuracy: 0.8244 - val_loss: 0.6743 - val_accuracy: 0.7333\n",
      "Epoch 13/50\n",
      "7/7 [==============================] - 3s 446ms/step - loss: 0.4412 - accuracy: 0.8237 - val_loss: 0.5855 - val_accuracy: 0.7733\n",
      "Epoch 14/50\n",
      "7/7 [==============================] - 3s 450ms/step - loss: 0.4158 - accuracy: 0.8444 - val_loss: 0.5240 - val_accuracy: 0.7800\n",
      "Epoch 15/50\n",
      "7/7 [==============================] - 3s 448ms/step - loss: 0.3592 - accuracy: 0.8541 - val_loss: 0.5340 - val_accuracy: 0.7733\n",
      "Epoch 16/50\n",
      "7/7 [==============================] - 3s 441ms/step - loss: 0.3524 - accuracy: 0.8630 - val_loss: 0.4529 - val_accuracy: 0.8133\n",
      "Epoch 17/50\n",
      "7/7 [==============================] - 3s 443ms/step - loss: 0.3017 - accuracy: 0.8837 - val_loss: 0.4433 - val_accuracy: 0.8067\n",
      "Epoch 18/50\n",
      "7/7 [==============================] - 3s 448ms/step - loss: 0.2558 - accuracy: 0.9052 - val_loss: 0.4255 - val_accuracy: 0.8200\n",
      "Epoch 19/50\n",
      "7/7 [==============================] - 3s 446ms/step - loss: 0.2225 - accuracy: 0.9141 - val_loss: 0.4449 - val_accuracy: 0.8467\n",
      "Epoch 20/50\n",
      "7/7 [==============================] - 3s 472ms/step - loss: 0.1951 - accuracy: 0.9333 - val_loss: 0.4135 - val_accuracy: 0.8467\n",
      "Epoch 21/50\n",
      "7/7 [==============================] - 3s 469ms/step - loss: 0.1563 - accuracy: 0.9459 - val_loss: 0.5130 - val_accuracy: 0.8133\n",
      "Epoch 22/50\n",
      "7/7 [==============================] - 3s 445ms/step - loss: 0.1298 - accuracy: 0.9511 - val_loss: 0.5488 - val_accuracy: 0.8267\n",
      "Epoch 23/50\n",
      "7/7 [==============================] - 3s 450ms/step - loss: 0.1017 - accuracy: 0.9681 - val_loss: 0.5035 - val_accuracy: 0.8267\n",
      "Epoch 24/50\n",
      "7/7 [==============================] - 3s 449ms/step - loss: 0.0778 - accuracy: 0.9733 - val_loss: 0.5128 - val_accuracy: 0.8533\n",
      "Epoch 25/50\n",
      "7/7 [==============================] - 3s 455ms/step - loss: 0.1043 - accuracy: 0.9570 - val_loss: 0.7057 - val_accuracy: 0.7867\n",
      "Epoch 26/50\n",
      "7/7 [==============================] - 3s 451ms/step - loss: 0.1604 - accuracy: 0.9363 - val_loss: 0.5257 - val_accuracy: 0.8200\n",
      "Epoch 27/50\n",
      "7/7 [==============================] - 3s 453ms/step - loss: 0.1046 - accuracy: 0.9622 - val_loss: 0.4104 - val_accuracy: 0.8400\n",
      "Epoch 28/50\n",
      "7/7 [==============================] - 3s 445ms/step - loss: 0.0824 - accuracy: 0.9733 - val_loss: 0.5758 - val_accuracy: 0.8533\n",
      "Epoch 29/50\n",
      "7/7 [==============================] - 3s 447ms/step - loss: 0.0690 - accuracy: 0.9763 - val_loss: 0.4375 - val_accuracy: 0.8467\n",
      "Epoch 30/50\n",
      "7/7 [==============================] - 3s 455ms/step - loss: 0.0501 - accuracy: 0.9800 - val_loss: 0.5278 - val_accuracy: 0.8600\n",
      "Epoch 31/50\n",
      "7/7 [==============================] - 3s 473ms/step - loss: 0.0450 - accuracy: 0.9837 - val_loss: 0.6023 - val_accuracy: 0.8533\n",
      "Epoch 32/50\n",
      "7/7 [==============================] - 3s 465ms/step - loss: 0.0355 - accuracy: 0.9911 - val_loss: 0.5540 - val_accuracy: 0.8467\n",
      "Epoch 33/50\n",
      "7/7 [==============================] - 3s 457ms/step - loss: 0.0265 - accuracy: 0.9926 - val_loss: 0.5814 - val_accuracy: 0.8733\n",
      "Epoch 34/50\n",
      "7/7 [==============================] - 3s 444ms/step - loss: 0.0164 - accuracy: 0.9963 - val_loss: 0.6849 - val_accuracy: 0.8533\n",
      "Epoch 35/50\n",
      "7/7 [==============================] - 3s 454ms/step - loss: 0.0136 - accuracy: 0.9985 - val_loss: 0.6441 - val_accuracy: 0.8800\n",
      "Epoch 36/50\n",
      "7/7 [==============================] - 3s 458ms/step - loss: 0.0117 - accuracy: 0.9970 - val_loss: 0.6871 - val_accuracy: 0.8467\n",
      "Epoch 37/50\n",
      "7/7 [==============================] - 3s 456ms/step - loss: 0.0106 - accuracy: 0.9978 - val_loss: 0.7406 - val_accuracy: 0.8467\n",
      "Epoch 38/50\n",
      "7/7 [==============================] - 3s 467ms/step - loss: 0.0074 - accuracy: 0.9993 - val_loss: 0.6653 - val_accuracy: 0.8533\n",
      "Epoch 39/50\n",
      "7/7 [==============================] - 3s 497ms/step - loss: 0.0055 - accuracy: 0.9993 - val_loss: 0.7688 - val_accuracy: 0.8667\n",
      "Epoch 40/50\n",
      "7/7 [==============================] - 3s 502ms/step - loss: 0.0039 - accuracy: 0.9993 - val_loss: 0.7291 - val_accuracy: 0.8600\n",
      "Epoch 41/50\n",
      "7/7 [==============================] - 3s 465ms/step - loss: 0.0031 - accuracy: 0.9993 - val_loss: 0.7806 - val_accuracy: 0.8467\n",
      "Epoch 42/50\n",
      "7/7 [==============================] - 3s 466ms/step - loss: 0.0027 - accuracy: 0.9993 - val_loss: 0.7581 - val_accuracy: 0.8467\n",
      "Epoch 43/50\n",
      "7/7 [==============================] - 3s 466ms/step - loss: 0.0026 - accuracy: 0.9993 - val_loss: 0.8072 - val_accuracy: 0.8533\n",
      "Epoch 44/50\n",
      "7/7 [==============================] - 3s 460ms/step - loss: 0.0021 - accuracy: 0.9993 - val_loss: 0.7864 - val_accuracy: 0.8533\n",
      "Epoch 45/50\n",
      "7/7 [==============================] - 3s 455ms/step - loss: 0.0018 - accuracy: 0.9993 - val_loss: 0.8060 - val_accuracy: 0.8533\n",
      "Epoch 46/50\n",
      "7/7 [==============================] - 3s 446ms/step - loss: 0.0016 - accuracy: 1.0000 - val_loss: 0.8014 - val_accuracy: 0.8467\n",
      "Epoch 47/50\n",
      "7/7 [==============================] - 3s 459ms/step - loss: 0.0015 - accuracy: 0.9993 - val_loss: 0.8398 - val_accuracy: 0.8533\n",
      "Epoch 48/50\n",
      "7/7 [==============================] - 3s 463ms/step - loss: 0.0017 - accuracy: 1.0000 - val_loss: 0.8228 - val_accuracy: 0.8467\n",
      "Epoch 49/50\n",
      "7/7 [==============================] - 3s 460ms/step - loss: 0.0013 - accuracy: 1.0000 - val_loss: 0.8176 - val_accuracy: 0.8533\n",
      "Epoch 50/50\n",
      "7/7 [==============================] - 3s 506ms/step - loss: 0.0011 - accuracy: 1.0000 - val_loss: 0.8794 - val_accuracy: 0.8467\n",
      "Testing the model\n",
      "10/10 [==============================] - 0s 42ms/step - loss: 1.0498 - accuracy: 0.8500\n",
      "Baseline Error: 15.00%\n"
     ]
    },
    {
     "data": {
      "text/plain": [
       "'the cnn model with 18.67% base error'"
      ]
     },
     "execution_count": 7,
     "metadata": {},
     "output_type": "execute_result"
    }
   ],
   "source": [
    "model=Sequential()\n",
    "model.add(Conv2D(128,(3,3),strides=(1,1),padding='same',input_shape=(20,20,3),activation='relu'))\n",
    "model.add(Conv2D(64,(3,3),strides=(1,1),padding='same',activation='relu'))\n",
    "model.add(MaxPooling2D((2,2),strides=(2,2),padding='valid'))\n",
    "model.add(Conv2D(128,(3,3),strides=(1,1),padding='same',activation='relu'))\n",
    "model.add(Conv2D(164,(3,3),strides=(1,1),padding='same',activation='relu'))\n",
    "model.add(MaxPooling2D((2,2),strides=(2,2),padding='valid'))\n",
    "model.add(Flatten())\n",
    "model.add(Dense(256,activation='relu'))\n",
    "model.add(Dense(100,activation='relu'))\n",
    "model.add(Dense(num_classes,activation='softmax'))\n",
    "\n",
    "model.compile(optimizer='Adam',loss='categorical_crossentropy',metrics=['accuracy'])\n",
    "x=model.fit(x_train,y_train,validation_data=(x_val,y_val),epochs=50,batch_size=200)\n",
    "\n",
    "\n",
    "\n",
    "print(\"Testing the model\")\n",
    "scores = model.evaluate(x_test, y_test)\n",
    "print(\"Baseline Error: %.2f%%\" % (100-scores[1]*100))\n",
    "\n",
    "\n",
    "\n",
    "#--------------------------------------------------#\n",
    "'''the cnn model with 18.67% base error'''"
   ]
  },
  {
   "cell_type": "code",
   "execution_count": 8,
   "metadata": {},
   "outputs": [
    {
     "name": "stdout",
     "output_type": "stream",
     "text": [
      "10/10 [==============================] - 0s 31ms/step - loss: 1.0498 - accuracy: 0.8500\n",
      "1.049801230430603 0.8500000238418579\n"
     ]
    },
    {
     "name": "stderr",
     "output_type": "stream",
     "text": [
      "c:\\Users\\vershi\\AppData\\Local\\Programs\\Python\\Python311\\Lib\\site-packages\\keras\\src\\engine\\training.py:3103: UserWarning: You are saving your model as an HDF5 file via `model.save()`. This file format is considered legacy. We recommend using instead the native Keras format, e.g. `model.save('my_model.keras')`.\n",
      "  saving_api.save_model(\n"
     ]
    },
    {
     "data": {
      "text/plain": [
       "'printing test loss and test accuracy'"
      ]
     },
     "execution_count": 8,
     "metadata": {},
     "output_type": "execute_result"
    }
   ],
   "source": [
    "test_loss, test_accuracy=model.evaluate(x_test,y_test)   \n",
    "print(test_loss,test_accuracy)\n",
    "model.save(\"cnn_model.h5\")\n",
    "#-----------------------------------------#\n",
    "'''printing test loss and test accuracy'''"
   ]
  },
  {
   "cell_type": "code",
   "execution_count": null,
   "metadata": {},
   "outputs": [],
   "source": []
  },
  {
   "cell_type": "code",
   "execution_count": 9,
   "metadata": {},
   "outputs": [
    {
     "data": {
      "text/plain": [
       "'#now you can test your image by giving the path of the image here\\n\\n#######################\\nclasses = [\"bird\",\"car\",\"plane\"]\\n\\nlabel_pred = model.predict(x_test)\\ny_classes = [np.argmax(element) for element in label_pred]\\nprint(y_classes)\\nprint(len(label_pred))\\n\\n########################\\n\\nimport cv2\\npath=input(\"path of the image:\")\\nimg = cv2.imread(path)\\nresize = tf.image.resize(img, (20,20))\\nlabel_pred= model.predict(np.expand_dims(resize/255, 0))        #numpy array\\n\\nlabel_pred.tolist                                               # array to list\\n\\ny_classes = [np.argmax(element) for element in label_pred]\\n\\nif y_classes==[0]:\\n    print(\"Bird\")\\n    print(\"With Probability of :\", label_pred[0][0])\\n\\nif y_classes==[1]:\\n    print(\"Car\")\\n    print(\"With Probability of :\", label_pred[0][1])\\n\\nif y_classes==[2]:\\n    print(\"Plane\")\\n    print(\"With Probability of :\", label_pred[0][2])\\n\\n\\n'"
      ]
     },
     "execution_count": 9,
     "metadata": {},
     "output_type": "execute_result"
    }
   ],
   "source": [
    "'''#now you can test your image by giving the path of the image here\n",
    "\n",
    "#######################\n",
    "classes = [\"bird\",\"car\",\"plane\"]\n",
    "\n",
    "label_pred = model.predict(x_test)\n",
    "y_classes = [np.argmax(element) for element in label_pred]\n",
    "print(y_classes)\n",
    "print(len(label_pred))\n",
    "\n",
    "########################\n",
    "\n",
    "import cv2\n",
    "path=input(\"path of the image:\")\n",
    "img = cv2.imread(path)\n",
    "resize = tf.image.resize(img, (20,20))\n",
    "label_pred= model.predict(np.expand_dims(resize/255, 0))        #numpy array\n",
    "\n",
    "label_pred.tolist                                               # array to list\n",
    "\n",
    "y_classes = [np.argmax(element) for element in label_pred]\n",
    "\n",
    "if y_classes==[0]:\n",
    "    print(\"Bird\")\n",
    "    print(\"With Probability of :\", label_pred[0][0])\n",
    "\n",
    "if y_classes==[1]:\n",
    "    print(\"Car\")\n",
    "    print(\"With Probability of :\", label_pred[0][1])\n",
    "\n",
    "if y_classes==[2]:\n",
    "    print(\"Plane\")\n",
    "    print(\"With Probability of :\", label_pred[0][2])\n",
    "\n",
    "\n",
    "'''\n"
   ]
  },
  {
   "cell_type": "code",
   "execution_count": null,
   "metadata": {},
   "outputs": [],
   "source": []
  }
 ],
 "metadata": {
  "kernelspec": {
   "display_name": "Python 3",
   "language": "python",
   "name": "python3"
  },
  "language_info": {
   "codemirror_mode": {
    "name": "ipython",
    "version": 3
   },
   "file_extension": ".py",
   "mimetype": "text/x-python",
   "name": "python",
   "nbconvert_exporter": "python",
   "pygments_lexer": "ipython3",
   "version": "3.11.1"
  }
 },
 "nbformat": 4,
 "nbformat_minor": 2
}
